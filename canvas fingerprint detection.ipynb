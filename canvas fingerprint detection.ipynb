{
 "cells": [
  {
   "cell_type": "code",
   "execution_count": 2,
   "metadata": {},
   "outputs": [],
   "source": [
    "import sqlite3\n",
    "import pandas as pd"
   ]
  },
  {
   "cell_type": "code",
   "execution_count": 3,
   "metadata": {},
   "outputs": [],
   "source": [
    "import re"
   ]
  },
  {
   "cell_type": "code",
   "execution_count": 4,
   "metadata": {},
   "outputs": [],
   "source": [
    "pd.set_option(\"display.max_colwidth\",500)\n",
    "pd.set_option(\"display.max_rows\",500)\n",
    "features_to_show = [\"crawl_id\", \"func_name\", \"top_level_url\", \"symbol\", \"operation\", \"value\", \"arguments\"]"
   ]
  },
  {
   "cell_type": "code",
   "execution_count": 5,
   "metadata": {},
   "outputs": [],
   "source": [
    "DB = 'sample_2018-06_1m_stateless_census_crawl.sqlite'"
   ]
  },
  {
   "cell_type": "code",
   "execution_count": 6,
   "metadata": {},
   "outputs": [],
   "source": [
    "con = sqlite3.connect(DB)"
   ]
  },
  {
   "cell_type": "code",
   "execution_count": 7,
   "metadata": {},
   "outputs": [],
   "source": [
    "con.row_factory = sqlite3.Row\n",
    "cur = con.cursor()\n",
    "js = pd.read_sql_query(\"SELECT * FROM javascript\", con)"
   ]
  },
  {
   "cell_type": "code",
   "execution_count": 8,
   "metadata": {},
   "outputs": [
    {
     "data": {
      "text/plain": [
       "window.Storage.getItem                  46851\n",
       "window.Storage.setItem                  18104\n",
       "window.Storage.removeItem               13812\n",
       "CanvasRenderingContext2D.fill            7258\n",
       "CanvasRenderingContext2D.save            7074\n",
       "CanvasRenderingContext2D.restore         7070\n",
       "HTMLCanvasElement.getContext             4208\n",
       "window.Storage.key                       3689\n",
       "CanvasRenderingContext2D.measureText     3103\n",
       "CanvasRenderingContext2D.stroke          2393\n",
       "CanvasRenderingContext2D.arc             1558\n",
       "CanvasRenderingContext2D.fillRect        1371\n",
       "CanvasRenderingContext2D.clip            1327\n",
       "CanvasRenderingContext2D.fillText         858\n",
       "CanvasRenderingContext2D.rotate           537\n",
       "Name: symbol, dtype: int64"
      ]
     },
     "execution_count": 8,
     "metadata": {},
     "output_type": "execute_result"
    }
   ],
   "source": [
    "js[js.operation == \"call\"].symbol.value_counts().head(15)"
   ]
  },
  {
   "cell_type": "code",
   "execution_count": 9,
   "metadata": {},
   "outputs": [
    {
     "data": {
      "text/plain": [
       "{\"0\":\"Cwm fjordbank glyphs vext quiz, 😃\",\"1\":4,\"2\":45}    74\n",
       "{\"0\":\"Cwm fjordbank glyphs vext quiz, 😃\",\"1\":2,\"2\":15}    74\n",
       "{\"0\":\"!image!\",\"1\":2,\"2\":15}                              39\n",
       "{\"0\":\"!image!\",\"1\":4,\"2\":17}                              39\n",
       "{\"0\":\"Soft Ruddy Foothold 2\",\"1\":2,\"2\":2}                 19\n",
       "{\"0\":\"!H71JCaj)]# 1@#\",\"1\":4,\"2\":8}                       19\n",
       "{\"0\":\"🇺🇳\",\"1\":0,\"2\":0}                                    18\n",
       "{\"0\":\"🇺​🇳\",\"1\":0,\"2\":0}                                   18\n",
       "{\"0\":\"09:30\",\"1\":5,\"2\":130}                               14\n",
       "{\"0\":\"🕴‍♀️\",\"1\":0,\"2\":0}                                  14\n",
       "Name: arguments, dtype: int64"
      ]
     },
     "execution_count": 9,
     "metadata": {},
     "output_type": "execute_result"
    }
   ],
   "source": [
    "js[(js.operation == \"call\") &\n",
    "   (js.symbol == \"CanvasRenderingContext2D.fillText\")\n",
    "  ].arguments.value_counts().head(10)"
   ]
  },
  {
   "cell_type": "markdown",
   "metadata": {},
   "source": [
    "<b> Criteria 1 from Englehardt & Narayanan, 2016: </b>\n",
    "\n",
    "To be a fingerprinting candidate: \"1.The canvas element’s height and width properties must\n",
    "not be set below 16 px.\""
   ]
  },
  {
   "cell_type": "code",
   "execution_count": 10,
   "metadata": {},
   "outputs": [],
   "source": [
    "def width_height_finder(data):\n",
    "    w = re.compile('[^(line)]width', re.IGNORECASE)\n",
    "    h = re.compile('[^(line)]height', re.IGNORECASE)\n",
    "    ww = w.search(data)\n",
    "    hh = h.search(data)\n",
    "    if ww!= None:\n",
    "        return data\n",
    "    elif hh!=None:\n",
    "        return data"
   ]
  },
  {
   "cell_type": "code",
   "execution_count": 11,
   "metadata": {},
   "outputs": [],
   "source": [
    "l = list(map(width_height_finder, list(js[js.operation == \"set\"].symbol)))\n",
    "l = [x for x in l if x is not None]"
   ]
  },
  {
   "cell_type": "code",
   "execution_count": 12,
   "metadata": {},
   "outputs": [
    {
     "data": {
      "text/plain": [
       "{'HTMLCanvasElement.height', 'HTMLCanvasElement.width'}"
      ]
     },
     "execution_count": 12,
     "metadata": {},
     "output_type": "execute_result"
    }
   ],
   "source": [
    "set(l)"
   ]
  },
  {
   "cell_type": "code",
   "execution_count": 13,
   "metadata": {
    "scrolled": true
   },
   "outputs": [],
   "source": [
    "MIN_CANVAS_IMAGE_WIDTH = 16\n",
    "MIN_CANVAS_IMAGE_HEIGHT = 16\n",
    "\n",
    "\n",
    "canvas_size = js[js.symbol.isin([\"HTMLCanvasElement.width\", \"HTMLCanvasElement.height\"])].value.astype(float)\n",
    "index_size_filter = canvas_size.where(canvas_size > MIN_CANVAS_IMAGE_HEIGHT).dropna().index"
   ]
  },
  {
   "cell_type": "code",
   "execution_count": 14,
   "metadata": {},
   "outputs": [
    {
     "data": {
      "text/plain": [
       "Int64Index([   638,    639,   1138,   1139,   1142,   1143,   1192,   1193,\n",
       "              1241,   1242,\n",
       "            ...\n",
       "            501091, 501092, 501186, 501187, 501190, 501191, 501196, 501197,\n",
       "            501200, 501201],\n",
       "           dtype='int64', length=7559)"
      ]
     },
     "execution_count": 14,
     "metadata": {},
     "output_type": "execute_result"
    }
   ],
   "source": [
    "index_size_filter"
   ]
  },
  {
   "cell_type": "code",
   "execution_count": 15,
   "metadata": {
    "scrolled": false
   },
   "outputs": [],
   "source": [
    "# js.iloc[index_size_filter][features_to_show]"
   ]
  },
  {
   "cell_type": "markdown",
   "metadata": {},
   "source": [
    "<b> Criteria 2 from Englehardt & Narayanan, 2016: </b> \n",
    "\n",
    "To be a fingerprinting candidate: \"2.Text must be written to canvas with least two colors or\n",
    "at least 10 distinct characters.\""
   ]
  },
  {
   "cell_type": "code",
   "execution_count": 16,
   "metadata": {},
   "outputs": [],
   "source": [
    "# js.symbol.value_counts()"
   ]
  },
  {
   "cell_type": "code",
   "execution_count": 17,
   "metadata": {},
   "outputs": [],
   "source": [
    "# js[js.symbol == \"CanvasRenderingContext2D.strokeStyle\"]"
   ]
  },
  {
   "cell_type": "code",
   "execution_count": 18,
   "metadata": {},
   "outputs": [],
   "source": [
    "import json \n",
    "\n",
    "def count_distinct_letters(text):\n",
    "    if text!=None:\n",
    "        t = json.loads(text, encoding='utf-8')['0']\n",
    "        if not isinstance(t, int):\n",
    "            return len(set(t))"
   ]
  },
  {
   "cell_type": "code",
   "execution_count": 19,
   "metadata": {},
   "outputs": [],
   "source": [
    "CANVAS_WRITE_FUNCS = [\n",
    "    \"CanvasRenderingContext2D.fillText\",\n",
    "    \"CanvasRenderingContext2D.strokeText\",\n",
    "    \"CanvasRenderingContext2D.fill\"\n",
    "    ]"
   ]
  },
  {
   "cell_type": "code",
   "execution_count": 20,
   "metadata": {},
   "outputs": [],
   "source": [
    "text = js[js.symbol.isin(CANVAS_WRITE_FUNCS)].arguments.dropna()\n",
    "indexx = text.index\n",
    "text = map(count_distinct_letters, text) \n",
    "res = pd.Series(text, index= indexx)\n",
    "index_count_filter = res.where(res>=10).dropna().index"
   ]
  },
  {
   "cell_type": "code",
   "execution_count": 21,
   "metadata": {},
   "outputs": [],
   "source": [
    "# js.iloc[index_count_filter][features_to_show]"
   ]
  },
  {
   "cell_type": "markdown",
   "metadata": {},
   "source": [
    "<b> Criteria 3 from Englehardt & Narayanan, 2016 </b>\n",
    "\n",
    "To be a fingerprinting candidate: \"3. The script should not call the save, restore, or addEventListener\n",
    "methods of the rendering context.\""
   ]
  },
  {
   "cell_type": "code",
   "execution_count": 22,
   "metadata": {},
   "outputs": [],
   "source": [
    "CANVAS_FP_DO_NOT_CALL_LIST = [\"CanvasRenderingContext2D.save\",\n",
    "                              \"CanvasRenderingContext2D.restore\",\n",
    "                              \"HTMLCanvasElement.addEventListener\"]"
   ]
  },
  {
   "cell_type": "code",
   "execution_count": 23,
   "metadata": {},
   "outputs": [
    {
     "data": {
      "text/plain": [
       "Int64Index([     0,      1,      2,      3,      4,      5,      6,      7,\n",
       "                 8,      9,\n",
       "            ...\n",
       "            501197, 501198, 501199, 501200, 501201, 501202, 501203, 501204,\n",
       "            501205, 501206],\n",
       "           dtype='int64', length=486982)"
      ]
     },
     "execution_count": 23,
     "metadata": {},
     "output_type": "execute_result"
    }
   ],
   "source": [
    "# js[js.operation == \"call\"][js.arguments!=None].arguments.value_counts().head(15)\n",
    "index_call_filter = js[~js.symbol.isin(CANVAS_FP_DO_NOT_CALL_LIST)].index\n",
    "index_call_filter"
   ]
  },
  {
   "cell_type": "code",
   "execution_count": 24,
   "metadata": {},
   "outputs": [],
   "source": [
    "# js.iloc[index_call_filter][features_to_show]"
   ]
  },
  {
   "cell_type": "code",
   "execution_count": 25,
   "metadata": {},
   "outputs": [],
   "source": [
    "# js[js.crawl_id==14].symbol.isin(CANVAS_FP_DO_NOT_CALL_LIST)"
   ]
  },
  {
   "cell_type": "markdown",
   "metadata": {},
   "source": [
    "<b>Criteria 4 from Englehardt & Narayanan, 2016: </b>\n",
    "\n",
    "To be a fingerprinting candidate: \"4. The script extracts an image with toDataURL or with a\n",
    "single call to getImageData that specifies an area with a\n",
    "minimum size of 16px × 16px\""
   ]
  },
  {
   "cell_type": "code",
   "execution_count": 26,
   "metadata": {},
   "outputs": [],
   "source": [
    "# js.symbol.value_counts()"
   ]
  },
  {
   "cell_type": "code",
   "execution_count": 27,
   "metadata": {},
   "outputs": [],
   "source": [
    "CANVAS_READ_FUNCS = [\n",
    "    \"HTMLCanvasElement.toDataURL\",\n",
    "    \"CanvasRenderingContext2D.getImageData\"\n",
    "    ]"
   ]
  },
  {
   "cell_type": "code",
   "execution_count": 28,
   "metadata": {},
   "outputs": [],
   "source": [
    "# js[js.symbol.isin(CANVAS_READ_FUNCS)].arguments.dropna()"
   ]
  },
  {
   "cell_type": "code",
   "execution_count": 29,
   "metadata": {},
   "outputs": [],
   "source": [
    "def check_dimensions(image):\n",
    "    if image!=None:\n",
    "        img = json.loads(image, encoding='utf-8')\n",
    "        if len(img)>3 and img['2']>=16 and img['3']>=16:\n",
    "            return image"
   ]
  },
  {
   "cell_type": "code",
   "execution_count": 30,
   "metadata": {},
   "outputs": [
    {
     "data": {
      "text/plain": [
       "Int64Index([   668,    672,   1190,   1240,   1298,   1349,   2246,   2750,\n",
       "              2754,   3221,\n",
       "            ...\n",
       "            500611, 500615, 501080, 501084, 501090, 501094, 501189, 501193,\n",
       "            501199, 501203],\n",
       "           dtype='int64', length=682)"
      ]
     },
     "execution_count": 30,
     "metadata": {},
     "output_type": "execute_result"
    }
   ],
   "source": [
    "image = js[js.symbol.isin(CANVAS_READ_FUNCS)].arguments\n",
    "indexx = image.index\n",
    "image = map(check_dimensions, image)\n",
    "res = pd.Series(image, index = indexx)\n",
    "index_image_filter = res.index\n",
    "index_image_filter"
   ]
  },
  {
   "cell_type": "code",
   "execution_count": 31,
   "metadata": {},
   "outputs": [],
   "source": [
    "# js.iloc[index_image_filter][features_to_show]"
   ]
  },
  {
   "cell_type": "markdown",
   "metadata": {},
   "source": [
    "At least 2 criteria"
   ]
  },
  {
   "cell_type": "code",
   "execution_count": 32,
   "metadata": {},
   "outputs": [],
   "source": [
    "lst = []"
   ]
  },
  {
   "cell_type": "code",
   "execution_count": 33,
   "metadata": {},
   "outputs": [],
   "source": [
    "for i in range(len(js)):\n",
    "    if i in index_call_filter and i in index_count_filter:\n",
    "        lst.append(js.iloc[i])\n",
    "    elif i in index_call_filter and i in index_size_filter:\n",
    "        lst.append(js.iloc[i])\n",
    "    elif i in index_call_filter and i in index_image_filter:\n",
    "        lst.append(js.iloc[i])\n",
    "    elif i in index_count_filter and i in index_size_filter:\n",
    "        lst.append(js.iloc[i])\n",
    "    elif i in index_count_filter and i in index_image_filter:\n",
    "        lst.append(js.iloc[i])\n",
    "    elif i in index_image_filter and i in index_size_filter:\n",
    "        lst.append(js.iloc[i])"
   ]
  },
  {
   "cell_type": "code",
   "execution_count": 34,
   "metadata": {},
   "outputs": [
    {
     "data": {
      "text/plain": [
       "8656"
      ]
     },
     "execution_count": 34,
     "metadata": {},
     "output_type": "execute_result"
    }
   ],
   "source": [
    "df = pd.DataFrame(lst)\n",
    "len(df)"
   ]
  },
  {
   "cell_type": "code",
   "execution_count": 80,
   "metadata": {},
   "outputs": [],
   "source": [
    "fp_visit_id = []\n",
    "for i in set(js.visit_id):\n",
    "    cond1 = cond2 = cond3 = cond4 = False\n",
    "    for j in js[js.visit_id==i].index:\n",
    "        if j in index_size_filter:\n",
    "            cond1 = True\n",
    "        if j in index_count_filter:\n",
    "            cond2 = True\n",
    "        if j in index_call_filter:\n",
    "            cond3 = True\n",
    "        if j in index_image_filter:\n",
    "            cond4 = True\n",
    "    if cond1 and cond2 and cond3 and cond4:\n",
    "        fp_visit_id.append(i)"
   ]
  },
  {
   "cell_type": "code",
   "execution_count": 85,
   "metadata": {},
   "outputs": [
    {
     "data": {
      "text/plain": [
       "81"
      ]
     },
     "execution_count": 85,
     "metadata": {},
     "output_type": "execute_result"
    }
   ],
   "source": [
    "len(fp_visit_id)"
   ]
  },
  {
   "cell_type": "markdown",
   "metadata": {},
   "source": [
    "Each criterion separately"
   ]
  },
  {
   "cell_type": "code",
   "execution_count": 34,
   "metadata": {},
   "outputs": [],
   "source": [
    "# lst1 = []\n",
    "# lst2 = []\n",
    "# lst3 = []\n",
    "# lst4 = []"
   ]
  },
  {
   "cell_type": "code",
   "execution_count": 35,
   "metadata": {},
   "outputs": [],
   "source": [
    "# for i in range(len(js)):\n",
    "#     if i in index_size_filter:\n",
    "#         lst1.append(js.iloc[i])\n",
    "#     elif i in index_count_filter:\n",
    "#         lst2.append(js.iloc[i])\n",
    "#     elif i in index_call_filter:\n",
    "#         lst3.append(js.iloc[i])\n",
    "#     elif i in index_image_filter:\n",
    "#         lst4.append(js.iloc[i])"
   ]
  },
  {
   "cell_type": "code",
   "execution_count": 36,
   "metadata": {},
   "outputs": [],
   "source": [
    "# crt1 = pd.DataFrame(lst1)\n",
    "# crt2 = pd.DataFrame(lst2)\n",
    "# crt3 = pd.DataFrame(lst3)\n",
    "# crt4 = pd.DataFrame(lst4)"
   ]
  },
  {
   "cell_type": "code",
   "execution_count": 37,
   "metadata": {},
   "outputs": [],
   "source": [
    "# crt1[features_to_show]"
   ]
  },
  {
   "cell_type": "markdown",
   "metadata": {},
   "source": [
    "All four criteria"
   ]
  },
  {
   "cell_type": "code",
   "execution_count": 38,
   "metadata": {},
   "outputs": [],
   "source": [
    "# lst = []"
   ]
  },
  {
   "cell_type": "code",
   "execution_count": 39,
   "metadata": {},
   "outputs": [],
   "source": [
    "# for i in range(len(js)):\n",
    "#     if i in index_call_filter and i in index_count_filter and i in index_size_filter and i in index_image_filter:\n",
    "#         lst.append(js.iloc[i])"
   ]
  },
  {
   "cell_type": "code",
   "execution_count": 40,
   "metadata": {},
   "outputs": [],
   "source": [
    "# df = pd.DataFrame(lst)\n",
    "# len(df)"
   ]
  }
 ],
 "metadata": {
  "kernelspec": {
   "display_name": "Python 3",
   "language": "python",
   "name": "python3"
  },
  "language_info": {
   "codemirror_mode": {
    "name": "ipython",
    "version": 3
   },
   "file_extension": ".py",
   "mimetype": "text/x-python",
   "name": "python",
   "nbconvert_exporter": "python",
   "pygments_lexer": "ipython3",
   "version": "3.7.3"
  }
 },
 "nbformat": 4,
 "nbformat_minor": 2
}
